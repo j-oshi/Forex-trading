{
 "cells": [
  {
   "cell_type": "code",
   "execution_count": 1,
   "id": "56081f8d",
   "metadata": {},
   "outputs": [],
   "source": [
    "from locale import currency\n",
    "import numpy as np\n",
    "import pandas as pd\n",
    "import os, sys\n",
    "from pickle import TRUE\n",
    "import json\n",
    "\n",
    "parent_dir = os.path.abspath('..')\n",
    "if parent_dir not in sys.path:\n",
    "    sys.path.append(parent_dir)\n",
    "\n",
    "from src import file_check, forex, matrix as mx\n",
    "\n",
    "currency_file = parent_dir + '/datas/currencies.csv'\n",
    "forex_matrix_file = parent_dir + '/datas/forex_matrix.csv'\n",
    "forex_price_file = parent_dir + '/datas/forex_price.json'\n",
    "\n",
    "def getAllCurrenciesSymbols():\n",
    "    df = pd.read_csv(currency_file, usecols = ['Currency code (ISO 4217)'])\n",
    "    currency_list = df.values.flatten().tolist()\n",
    "    remove_all = 'ALL'\n",
    "    currency_list = [value for value in currency_list if value != remove_all]\n",
    "    return currency_list\n",
    "\n",
    "def saveForexMatrix(currency_list):\n",
    "    forex_title = currency_list\n",
    "    forex_matrix = mx.matrix(currency_list)\n",
    "\n",
    "    # Add title and change index titles\n",
    "    df = pd.DataFrame(forex_matrix, columns = forex_title, index=forex_title)\n",
    "\n",
    "    # Save to csv\n",
    "    df.to_csv(forex_matrix_file)\n",
    "    print('Matrix table created and saved')\n",
    "\n",
    "if file_check.file_exist(forex_matrix_file):\n",
    "    pass\n",
    "else:\n",
    "    if file_check.file_exist(currency_file):\n",
    "        currency_list = getAllCurrenciesSymbols()\n",
    "        if len(currency_list) > 0:\n",
    "            print('Currencies table exist')\n",
    "            saveForexMatrix(currency_list) \n",
    "        else:\n",
    "            print('Error creating matrix table as currency list is empty.')\n",
    "    else:\n",
    "        forex.get_all_currencies() \n",
    "        if file_check.file_exist(currency_file):\n",
    "            currency_list = getAllCurrenciesSymbols()\n",
    "            if len(currency_list) > 0:\n",
    "                print('Currencies table exist')\n",
    "                saveForexMatrix(currency_list)\n",
    "            else:\n",
    "                print('Error creating matrix table as currency list is empty.')\n",
    "        else:\n",
    "            print('Cannot create currenies list file')\n"
   ]
  },
  {
   "cell_type": "markdown",
   "id": "31b155f7",
   "metadata": {},
   "source": []
  },
  {
   "cell_type": "code",
   "execution_count": 2,
   "id": "0fa8c887",
   "metadata": {},
   "outputs": [
    {
     "name": "stdout",
     "output_type": "stream",
     "text": [
      "Download complete\n"
     ]
    }
   ],
   "source": [
    "def getAllExchangeVariableForCurrency(symbol):\n",
    "    try:\n",
    "        rdf = pd.read_csv(forex_matrix_file)\n",
    "        if symbol in rdf:\n",
    "            rdf = pd.read_csv(forex_matrix_file, usecols = [symbol])\n",
    "            return rdf.values.flatten().tolist()\n",
    "    except:\n",
    "        print(\"Error get result for\" + symbol)\n",
    "\n",
    "# print(getAllExchangeVariableForCurrency('USD'))\n",
    "# print(getAllExchangeVariableForCurrency('GBP'))\n",
    "# print(getAllExchangeVariableForCurrency('NGN'))\n",
    "# print(forex.getYahooAllExchangeRateFor(getAllExchangeVariableForCurrency('GBP')))\n",
    "\n",
    "# forex_price_data = forex.getYahooAllDetailExchangeRateFor(['USDEUR'])\n",
    "forex_price_data = forex.getYahooAllDetailExchangeRateFor(getAllExchangeVariableForCurrency('GBP'))\n",
    "\n",
    "# forex_price_data = forex.getYahooAllExchangeRateFor(getAllExchangeVariableForCurrency('GBP'))\n",
    "json_string = json.dumps(forex_price_data, indent=2)\n",
    "with open(forex_price_file, 'w') as outfile:\n",
    "    outfile.write(json_string)\n",
    "print('Download complete')\n",
    "\n",
    "# with open(forex_price_file) as json_file:\n",
    "#     data = json.load(json_file)\n",
    "# header = data['data']['headers']\n",
    "# row = data['data']['rows']\n",
    "# test = data['data']\n",
    "\n",
    "# df = pd.read_json(forex_price_file)\n",
    "\n",
    "# print(df.to_string())\n"
   ]
  }
 ],
 "metadata": {
  "kernelspec": {
   "display_name": "Python 3 (ipykernel)",
   "language": "python",
   "name": "python3"
  },
  "language_info": {
   "codemirror_mode": {
    "name": "ipython",
    "version": 3
   },
   "file_extension": ".py",
   "mimetype": "text/x-python",
   "name": "python",
   "nbconvert_exporter": "python",
   "pygments_lexer": "ipython3",
   "version": "3.9.12"
  },
  "vscode": {
   "interpreter": {
    "hash": "84c889a60286ece09d27da6b3a08738cc10428f23f388a6d3913714d84ff8b9f"
   }
  }
 },
 "nbformat": 4,
 "nbformat_minor": 5
}
