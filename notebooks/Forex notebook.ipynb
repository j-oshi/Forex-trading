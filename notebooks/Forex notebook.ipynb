{
 "cells": [
  {
   "cell_type": "code",
   "execution_count": 11,
   "id": "56081f8d",
   "metadata": {},
   "outputs": [],
   "source": [
    "from locale import currency\n",
    "import numpy as np\n",
    "import pandas as pd\n",
    "\n",
    "import os, sys\n",
    "from pickle import TRUE\n",
    "parent_dir = os.path.abspath('..')\n",
    "\n",
    "if parent_dir not in sys.path:\n",
    "    sys.path.append(parent_dir)\n",
    "\n",
    "from src import file_check, forex, matrix as mx\n",
    "\n",
    "currency_file = parent_dir + '/datas/currencies.csv'\n",
    "forex_matrix_file = parent_dir + '/datas/forex_matrix.csv'\n",
    "\n",
    "def getAllCurrenciesSymbols():\n",
    "    df = pd.read_csv(currency_file, usecols = [' ISO '])\n",
    "    currency_list = df.values.flatten().tolist()\n",
    "    remove_all = 'ALL'\n",
    "    currency_list = [value for value in currency_list if value != remove_all]\n",
    "    return currency_list\n",
    "\n",
    "def save_forex_matrix(currency_list):\n",
    "    forex_title = currency_list\n",
    "    forex_matrix = mx.matrix(currency_list)\n",
    "\n",
    "    # Add title and change index titles\n",
    "    df = pd.DataFrame(forex_matrix, columns = forex_title, index=forex_title)\n",
    "\n",
    "    # Save to csv\n",
    "    df.to_csv(forex_matrix_file)\n",
    "    print('Matrix table created and saved')\n",
    "\n",
    "if file_check.file_exist(forex_matrix_file):\n",
    "    pass\n",
    "else:\n",
    "    if file_check.file_exist(currency_file):\n",
    "        currency_list = getAllCurrenciesSymbols()\n",
    "        if len(currency_list) > 0:\n",
    "            print('Currencies table exist')\n",
    "            save_forex_matrix(currency_list) \n",
    "        else:\n",
    "            print('Error creating matrix table as currency list is empty.')\n",
    "    else:\n",
    "        forex.get_all_currencies() \n",
    "        if file_check.file_exist(currency_file):\n",
    "            currency_list = getAllCurrenciesSymbols()\n",
    "            if len(currency_list) > 0:\n",
    "                print('Currencies table exist')\n",
    "                save_forex_matrix(currency_list)\n",
    "            else:\n",
    "                print('Error creating matrix table as currency list is empty.')\n",
    "        else:\n",
    "            print('Cannot create currenies list file')\n"
   ]
  },
  {
   "cell_type": "markdown",
   "id": "31b155f7",
   "metadata": {},
   "source": []
  },
  {
   "cell_type": "code",
   "execution_count": 12,
   "id": "0fa8c887",
   "metadata": {},
   "outputs": [
    {
     "name": "stdout",
     "output_type": "stream",
     "text": [
      "['AUDUSD', 'DZDUSD', 'ARSUSD', 'AFNUSD', 'AOAUSD', 'AMDUSD', 'AZNUSD', 'GBPUSD', 'BSDUSD', 'BHDUSD', 'BDTUSD', 'BBDUSD', 'BZDUSD', 'BTNUSD', 'BOBUSD', 'BWPUSD', 'BRLUSD', 'BNDUSD', 'BGNUSD', 'BIFUSD', 'BYNUSD', 'BAMUSD', 'CADUSD', 'CNYUSD', 'KHRUSD', 'CVEUSD', 'XOFUSD', 'XAFUSD', 'CLPUSD', 'COPUSD', 'KMFUSD', 'CRCUSD', 'HRKUSD', 'CUPUSD', 'CZKUSD', 'CDFUSD', 'DKKUSD', 'DJFUSD', 'DOPUSD', 'EURUSD', 'XCDUSD', 'EGPUSD', 'ETBUSD', 'ERNUSD', 'FJDUSD', 'GMDUSD', 'GTQUSD', 'GNFUSD', 'GYDUSD', 'GHSUSD', 'GELUSD', 'HKDUSD', 'HTGUSD', 'HNLUSD', 'HUFUSD', 'IDRUSD', 'INRUSD', 'ISKUSD', 'IRRUSD', 'IQDUSD', 'ILSUSD', 'JPYUSD', 'JMDUSD', 'JODUSD', 'KZTUSD', 'KESUSD', 'KRWUSD', 'KWDUSD', 'KGSUSD', 'MOPUSD', 'MKDUSD', 'MWKUSD', 'MYRUSD', 'MVRUSD', 'MROUSD', 'MURUSD', 'MXNUSD', 'MDLUSD', 'MNTUSD', 'MADUSD', 'MMKUSD', 'MGAUSD', 'MZNUSD', 'NADUSD', 'NPRUSD', 'NZDUSD', 'NIOUSD', 'NGNUSD', 'KPWUSD', 'NOKUSD', 'OMRUSD', 'PKRUSD', 'PGKUSD', 'PYGUSD', 'PENUSD', 'PHPUSD', 'PLNUSD', 'QARUSD', 'RONUSD', 'RUBUSD', 'RWFUSD', 'CHFUSD', 'WSTUSD', 'SARUSD', 'SCRUSD', 'SLLUSD', 'SGDUSD', 'SBDUSD', 'SOSUSD', 'ZARUSD', 'LKRUSD', 'SDGUSD', 'SZLUSD', 'SEKUSD', 'SYPUSD', 'RSDUSD', 'SRDUSD', 'THBUSD', 'TRYUSD', 'TWDUSD', 'TZSUSD', 'TOPUSD', 'TTDUSD', 'TNDUSD', 'TJSUSD', 'TMTUSD', '0', 'AEDUSD', 'UGXUSD', 'UAHUSD', 'UYUUSD', 'UZSUSD', 'VUVUSD', 'VNDUSD', 'YERUSD', 'ZMWUSD']\n",
      "['AUDGBP', 'DZDGBP', 'ARSGBP', 'AFNGBP', 'AOAGBP', 'AMDGBP', 'AZNGBP', '0', 'BSDGBP', 'BHDGBP', 'BDTGBP', 'BBDGBP', 'BZDGBP', 'BTNGBP', 'BOBGBP', 'BWPGBP', 'BRLGBP', 'BNDGBP', 'BGNGBP', 'BIFGBP', 'BYNGBP', 'BAMGBP', 'CADGBP', 'CNYGBP', 'KHRGBP', 'CVEGBP', 'XOFGBP', 'XAFGBP', 'CLPGBP', 'COPGBP', 'KMFGBP', 'CRCGBP', 'HRKGBP', 'CUPGBP', 'CZKGBP', 'CDFGBP', 'DKKGBP', 'DJFGBP', 'DOPGBP', 'EURGBP', 'XCDGBP', 'EGPGBP', 'ETBGBP', 'ERNGBP', 'FJDGBP', 'GMDGBP', 'GTQGBP', 'GNFGBP', 'GYDGBP', 'GHSGBP', 'GELGBP', 'HKDGBP', 'HTGGBP', 'HNLGBP', 'HUFGBP', 'IDRGBP', 'INRGBP', 'ISKGBP', 'IRRGBP', 'IQDGBP', 'ILSGBP', 'JPYGBP', 'JMDGBP', 'JODGBP', 'KZTGBP', 'KESGBP', 'KRWGBP', 'KWDGBP', 'KGSGBP', 'MOPGBP', 'MKDGBP', 'MWKGBP', 'MYRGBP', 'MVRGBP', 'MROGBP', 'MURGBP', 'MXNGBP', 'MDLGBP', 'MNTGBP', 'MADGBP', 'MMKGBP', 'MGAGBP', 'MZNGBP', 'NADGBP', 'NPRGBP', 'NZDGBP', 'NIOGBP', 'NGNGBP', 'KPWGBP', 'NOKGBP', 'OMRGBP', 'PKRGBP', 'PGKGBP', 'PYGGBP', 'PENGBP', 'PHPGBP', 'PLNGBP', 'QARGBP', 'RONGBP', 'RUBGBP', 'RWFGBP', 'CHFGBP', 'WSTGBP', 'SARGBP', 'SCRGBP', 'SLLGBP', 'SGDGBP', 'SBDGBP', 'SOSGBP', 'ZARGBP', 'LKRGBP', 'SDGGBP', 'SZLGBP', 'SEKGBP', 'SYPGBP', 'RSDGBP', 'SRDGBP', 'THBGBP', 'TRYGBP', 'TWDGBP', 'TZSGBP', 'TOPGBP', 'TTDGBP', 'TNDGBP', 'TJSGBP', 'TMTGBP', 'USDGBP', 'AEDGBP', 'UGXGBP', 'UAHGBP', 'UYUGBP', 'UZSGBP', 'VUVGBP', 'VNDGBP', 'YERGBP', 'ZMWGBP']\n",
      "['AUDNGN', 'DZDNGN', 'ARSNGN', 'AFNNGN', 'AOANGN', 'AMDNGN', 'AZNNGN', 'GBPNGN', 'BSDNGN', 'BHDNGN', 'BDTNGN', 'BBDNGN', 'BZDNGN', 'BTNNGN', 'BOBNGN', 'BWPNGN', 'BRLNGN', 'BNDNGN', 'BGNNGN', 'BIFNGN', 'BYNNGN', 'BAMNGN', 'CADNGN', 'CNYNGN', 'KHRNGN', 'CVENGN', 'XOFNGN', 'XAFNGN', 'CLPNGN', 'COPNGN', 'KMFNGN', 'CRCNGN', 'HRKNGN', 'CUPNGN', 'CZKNGN', 'CDFNGN', 'DKKNGN', 'DJFNGN', 'DOPNGN', 'EURNGN', 'XCDNGN', 'EGPNGN', 'ETBNGN', 'ERNNGN', 'FJDNGN', 'GMDNGN', 'GTQNGN', 'GNFNGN', 'GYDNGN', 'GHSNGN', 'GELNGN', 'HKDNGN', 'HTGNGN', 'HNLNGN', 'HUFNGN', 'IDRNGN', 'INRNGN', 'ISKNGN', 'IRRNGN', 'IQDNGN', 'ILSNGN', 'JPYNGN', 'JMDNGN', 'JODNGN', 'KZTNGN', 'KESNGN', 'KRWNGN', 'KWDNGN', 'KGSNGN', 'MOPNGN', 'MKDNGN', 'MWKNGN', 'MYRNGN', 'MVRNGN', 'MRONGN', 'MURNGN', 'MXNNGN', 'MDLNGN', 'MNTNGN', 'MADNGN', 'MMKNGN', 'MGANGN', 'MZNNGN', 'NADNGN', 'NPRNGN', 'NZDNGN', 'NIONGN', '0', 'KPWNGN', 'NOKNGN', 'OMRNGN', 'PKRNGN', 'PGKNGN', 'PYGNGN', 'PENNGN', 'PHPNGN', 'PLNNGN', 'QARNGN', 'RONNGN', 'RUBNGN', 'RWFNGN', 'CHFNGN', 'WSTNGN', 'SARNGN', 'SCRNGN', 'SLLNGN', 'SGDNGN', 'SBDNGN', 'SOSNGN', 'ZARNGN', 'LKRNGN', 'SDGNGN', 'SZLNGN', 'SEKNGN', 'SYPNGN', 'RSDNGN', 'SRDNGN', 'THBNGN', 'TRYNGN', 'TWDNGN', 'TZSNGN', 'TOPNGN', 'TTDNGN', 'TNDNGN', 'TJSNGN', 'TMTNGN', 'USDNGN', 'AEDNGN', 'UGXNGN', 'UAHNGN', 'UYUNGN', 'UZSNGN', 'VUVNGN', 'VNDNGN', 'YERNGN', 'ZMWNGN']\n"
     ]
    }
   ],
   "source": [
    "def getAllExchangeVariableForCurrency(symbol):\n",
    "    try:\n",
    "        rdf = pd.read_csv(forex_matrix_file)\n",
    "        if symbol in rdf:\n",
    "            rdf = pd.read_csv(forex_matrix_file, usecols = [symbol])\n",
    "            return rdf.values.flatten().tolist()\n",
    "    except:\n",
    "        print(\"Error get result for\" + symbol)\n",
    "\n",
    "print(getAllExchangeVariableForCurrency('USD'))\n",
    "print(getAllExchangeVariableForCurrency('GBP'))\n",
    "print(getAllExchangeVariableForCurrency('NGN'))"
   ]
  }
 ],
 "metadata": {
  "kernelspec": {
   "display_name": "Python 3 (ipykernel)",
   "language": "python",
   "name": "python3"
  },
  "language_info": {
   "codemirror_mode": {
    "name": "ipython",
    "version": 3
   },
   "file_extension": ".py",
   "mimetype": "text/x-python",
   "name": "python",
   "nbconvert_exporter": "python",
   "pygments_lexer": "ipython3",
   "version": "3.9.12"
  },
  "vscode": {
   "interpreter": {
    "hash": "84c889a60286ece09d27da6b3a08738cc10428f23f388a6d3913714d84ff8b9f"
   }
  }
 },
 "nbformat": 4,
 "nbformat_minor": 5
}
