{
 "cells": [
  {
   "cell_type": "code",
   "execution_count": 1,
   "id": "56081f8d",
   "metadata": {},
   "outputs": [],
   "source": [
    "from locale import currency\n",
    "import os, sys\n",
    "parent_dir = os.path.abspath('..')\n",
    "\n",
    "if parent_dir not in sys.path:\n",
    "    sys.path.append(parent_dir)\n",
    "\n",
    "from src import forex\n",
    "\n",
    "currency_file = parent_dir + '/datas/currencies.csv'\n",
    "\n",
    "file_exists = os.path.exists(currency_file)\n",
    "\n",
    "if file_exists:\n",
    "    if os.stat(currency_file).st_size > 0:\n",
    "        print(\"Currencies file exist.\")\n",
    "    else:\n",
    "        forex.get_all_currencies()\n",
    "        print(\"Currencies downloaded for empty file.\")\n",
    "else:\n",
    "    forex.get_all_currencies()\n",
    "    print(\"Currencies downloaded\")\n",
    "# forex.get_all_currencies()\n",
    "# file_exists = os.path.exists('readme.txt')\n",
    "# print(file_exists)\n"
   ]
  },
  {
   "cell_type": "code",
   "execution_count": null,
   "id": "0fa8c887",
   "metadata": {},
   "outputs": [],
   "source": []
  }
 ],
 "metadata": {
  "kernelspec": {
   "display_name": "Python 3 (ipykernel)",
   "language": "python",
   "name": "python3"
  },
  "language_info": {
   "codemirror_mode": {
    "name": "ipython",
    "version": 3
   },
   "file_extension": ".py",
   "mimetype": "text/x-python",
   "name": "python",
   "nbconvert_exporter": "python",
   "pygments_lexer": "ipython3",
   "version": "3.9.12"
  },
  "vscode": {
   "interpreter": {
    "hash": "84c889a60286ece09d27da6b3a08738cc10428f23f388a6d3913714d84ff8b9f"
   }
  }
 },
 "nbformat": 4,
 "nbformat_minor": 5
}
