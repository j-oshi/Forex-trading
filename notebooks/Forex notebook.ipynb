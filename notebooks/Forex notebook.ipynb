{
 "cells": [
  {
   "cell_type": "code",
   "execution_count": 1,
   "id": "56081f8d",
   "metadata": {},
   "outputs": [
    {
     "name": "stdout",
     "output_type": "stream",
     "text": [
      "Currencies list download complete\n",
      "Currencies table exist\n",
      "Matrix table created and saved\n"
     ]
    }
   ],
   "source": [
    "from locale import currency\n",
    "import numpy as np\n",
    "import pandas as pd\n",
    "import os, sys\n",
    "from pickle import TRUE\n",
    "\n",
    "from src import file_check, forex, matrix as mx\n",
    "\n",
    "parent_dir = os.path.abspath('..')\n",
    "if parent_dir not in sys.path:\n",
    "    sys.path.append(parent_dir)\n",
    "\n",
    "currency_file = parent_dir + '/datas/currencies.csv'\n",
    "forex_matrix_file = parent_dir + '/datas/forex_matrix.csv'\n",
    "\n",
    "def getAllCurrenciesSymbols():\n",
    "    df = pd.read_csv(currency_file, usecols = [' ISO '])\n",
    "    currency_list = df.values.flatten().tolist()\n",
    "    remove_all = 'ALL'\n",
    "    currency_list = [value for value in currency_list if value != remove_all]\n",
    "    return currency_list\n",
    "\n",
    "def saveForexMatrix(currency_list):\n",
    "    forex_title = currency_list\n",
    "    forex_matrix = mx.matrix(currency_list)\n",
    "\n",
    "    # Add title and change index titles\n",
    "    df = pd.DataFrame(forex_matrix, columns = forex_title, index=forex_title)\n",
    "\n",
    "    # Save to csv\n",
    "    df.to_csv(forex_matrix_file)\n",
    "    print('Matrix table created and saved')\n",
    "\n",
    "if file_check.file_exist(forex_matrix_file):\n",
    "    pass\n",
    "else:\n",
    "    if file_check.file_exist(currency_file):\n",
    "        currency_list = getAllCurrenciesSymbols()\n",
    "        if len(currency_list) > 0:\n",
    "            print('Currencies table exist')\n",
    "            saveForexMatrix(currency_list) \n",
    "        else:\n",
    "            print('Error creating matrix table as currency list is empty.')\n",
    "    else:\n",
    "        forex.get_all_currencies() \n",
    "        if file_check.file_exist(currency_file):\n",
    "            currency_list = getAllCurrenciesSymbols()\n",
    "            if len(currency_list) > 0:\n",
    "                print('Currencies table exist')\n",
    "                saveForexMatrix(currency_list)\n",
    "            else:\n",
    "                print('Error creating matrix table as currency list is empty.')\n",
    "        else:\n",
    "            print('Cannot create currenies list file')\n"
   ]
  },
  {
   "cell_type": "markdown",
   "id": "31b155f7",
   "metadata": {},
   "source": []
  },
  {
   "cell_type": "code",
   "execution_count": 2,
   "id": "0fa8c887",
   "metadata": {},
   "outputs": [
    {
     "name": "stdout",
     "output_type": "stream",
     "text": [
      "['USDAUD', 'USDDZD', 'USDARS', 'USDAFN', 'USDAOA', 'USDAMD', 'USDAZN', 'USDGBP', 'USDBSD', 'USDBHD', 'USDBDT', 'USDBBD', 'USDBZD', 'USDBTN', 'USDBOB', 'USDBWP', 'USDBRL', 'USDBND', 'USDBGN', 'USDBIF', 'USDBYN', 'USDBAM', 'USDCAD', 'USDCNY', 'USDKHR', 'USDCVE', 'USDXOF', 'USDXAF', 'USDCLP', 'USDCOP', 'USDKMF', 'USDCRC', 'USDHRK', 'USDCUP', 'USDCZK', 'USDCDF', 'USDDKK', 'USDDJF', 'USDDOP', 'USDEUR', 'USDXCD', 'USDEGP', 'USDETB', 'USDERN', 'USDFJD', 'USDGMD', 'USDGTQ', 'USDGNF', 'USDGYD', 'USDGHS', 'USDGEL', 'USDHKD', 'USDHTG', 'USDHNL', 'USDHUF', 'USDIDR', 'USDINR', 'USDISK', 'USDIRR', 'USDIQD', 'USDILS', 'USDJPY', 'USDJMD', 'USDJOD', 'USDKZT', 'USDKES', 'USDKRW', 'USDKWD', 'USDKGS', 'USDMOP', 'USDMKD', 'USDMWK', 'USDMYR', 'USDMVR', 'USDMRO', 'USDMUR', 'USDMXN', 'USDMDL', 'USDMNT', 'USDMAD', 'USDMMK', 'USDMGA', 'USDMZN', 'USDNAD', 'USDNPR', 'USDNZD', 'USDNIO', 'USDNGN', 'USDKPW', 'USDNOK', 'USDOMR', 'USDPKR', 'USDPGK', 'USDPYG', 'USDPEN', 'USDPHP', 'USDPLN', 'USDQAR', 'USDRON', 'USDRUB', 'USDRWF', 'USDCHF', 'USDWST', 'USDSAR', 'USDSCR', 'USDSLL', 'USDSGD', 'USDSBD', 'USDSOS', 'USDZAR', 'USDLKR', 'USDSDG', 'USDSZL', 'USDSEK', 'USDSYP', 'USDRSD', 'USDSRD', 'USDTHB', 'USDTRY', 'USDTWD', 'USDTZS', 'USDTOP', 'USDTTD', 'USDTND', 'USDTJS', 'USDTMT', '0', 'USDAED', 'USDUGX', 'USDUAH', 'USDUYU', 'USDUZS', 'USDVUV', 'USDVND', 'USDYER', 'USDZMW']\n",
      "['GBPAUD', 'GBPDZD', 'GBPARS', 'GBPAFN', 'GBPAOA', 'GBPAMD', 'GBPAZN', '0', 'GBPBSD', 'GBPBHD', 'GBPBDT', 'GBPBBD', 'GBPBZD', 'GBPBTN', 'GBPBOB', 'GBPBWP', 'GBPBRL', 'GBPBND', 'GBPBGN', 'GBPBIF', 'GBPBYN', 'GBPBAM', 'GBPCAD', 'GBPCNY', 'GBPKHR', 'GBPCVE', 'GBPXOF', 'GBPXAF', 'GBPCLP', 'GBPCOP', 'GBPKMF', 'GBPCRC', 'GBPHRK', 'GBPCUP', 'GBPCZK', 'GBPCDF', 'GBPDKK', 'GBPDJF', 'GBPDOP', 'GBPEUR', 'GBPXCD', 'GBPEGP', 'GBPETB', 'GBPERN', 'GBPFJD', 'GBPGMD', 'GBPGTQ', 'GBPGNF', 'GBPGYD', 'GBPGHS', 'GBPGEL', 'GBPHKD', 'GBPHTG', 'GBPHNL', 'GBPHUF', 'GBPIDR', 'GBPINR', 'GBPISK', 'GBPIRR', 'GBPIQD', 'GBPILS', 'GBPJPY', 'GBPJMD', 'GBPJOD', 'GBPKZT', 'GBPKES', 'GBPKRW', 'GBPKWD', 'GBPKGS', 'GBPMOP', 'GBPMKD', 'GBPMWK', 'GBPMYR', 'GBPMVR', 'GBPMRO', 'GBPMUR', 'GBPMXN', 'GBPMDL', 'GBPMNT', 'GBPMAD', 'GBPMMK', 'GBPMGA', 'GBPMZN', 'GBPNAD', 'GBPNPR', 'GBPNZD', 'GBPNIO', 'GBPNGN', 'GBPKPW', 'GBPNOK', 'GBPOMR', 'GBPPKR', 'GBPPGK', 'GBPPYG', 'GBPPEN', 'GBPPHP', 'GBPPLN', 'GBPQAR', 'GBPRON', 'GBPRUB', 'GBPRWF', 'GBPCHF', 'GBPWST', 'GBPSAR', 'GBPSCR', 'GBPSLL', 'GBPSGD', 'GBPSBD', 'GBPSOS', 'GBPZAR', 'GBPLKR', 'GBPSDG', 'GBPSZL', 'GBPSEK', 'GBPSYP', 'GBPRSD', 'GBPSRD', 'GBPTHB', 'GBPTRY', 'GBPTWD', 'GBPTZS', 'GBPTOP', 'GBPTTD', 'GBPTND', 'GBPTJS', 'GBPTMT', 'GBPUSD', 'GBPAED', 'GBPUGX', 'GBPUAH', 'GBPUYU', 'GBPUZS', 'GBPVUV', 'GBPVND', 'GBPYER', 'GBPZMW']\n",
      "['NGNAUD', 'NGNDZD', 'NGNARS', 'NGNAFN', 'NGNAOA', 'NGNAMD', 'NGNAZN', 'NGNGBP', 'NGNBSD', 'NGNBHD', 'NGNBDT', 'NGNBBD', 'NGNBZD', 'NGNBTN', 'NGNBOB', 'NGNBWP', 'NGNBRL', 'NGNBND', 'NGNBGN', 'NGNBIF', 'NGNBYN', 'NGNBAM', 'NGNCAD', 'NGNCNY', 'NGNKHR', 'NGNCVE', 'NGNXOF', 'NGNXAF', 'NGNCLP', 'NGNCOP', 'NGNKMF', 'NGNCRC', 'NGNHRK', 'NGNCUP', 'NGNCZK', 'NGNCDF', 'NGNDKK', 'NGNDJF', 'NGNDOP', 'NGNEUR', 'NGNXCD', 'NGNEGP', 'NGNETB', 'NGNERN', 'NGNFJD', 'NGNGMD', 'NGNGTQ', 'NGNGNF', 'NGNGYD', 'NGNGHS', 'NGNGEL', 'NGNHKD', 'NGNHTG', 'NGNHNL', 'NGNHUF', 'NGNIDR', 'NGNINR', 'NGNISK', 'NGNIRR', 'NGNIQD', 'NGNILS', 'NGNJPY', 'NGNJMD', 'NGNJOD', 'NGNKZT', 'NGNKES', 'NGNKRW', 'NGNKWD', 'NGNKGS', 'NGNMOP', 'NGNMKD', 'NGNMWK', 'NGNMYR', 'NGNMVR', 'NGNMRO', 'NGNMUR', 'NGNMXN', 'NGNMDL', 'NGNMNT', 'NGNMAD', 'NGNMMK', 'NGNMGA', 'NGNMZN', 'NGNNAD', 'NGNNPR', 'NGNNZD', 'NGNNIO', '0', 'NGNKPW', 'NGNNOK', 'NGNOMR', 'NGNPKR', 'NGNPGK', 'NGNPYG', 'NGNPEN', 'NGNPHP', 'NGNPLN', 'NGNQAR', 'NGNRON', 'NGNRUB', 'NGNRWF', 'NGNCHF', 'NGNWST', 'NGNSAR', 'NGNSCR', 'NGNSLL', 'NGNSGD', 'NGNSBD', 'NGNSOS', 'NGNZAR', 'NGNLKR', 'NGNSDG', 'NGNSZL', 'NGNSEK', 'NGNSYP', 'NGNRSD', 'NGNSRD', 'NGNTHB', 'NGNTRY', 'NGNTWD', 'NGNTZS', 'NGNTOP', 'NGNTTD', 'NGNTND', 'NGNTJS', 'NGNTMT', 'NGNUSD', 'NGNAED', 'NGNUGX', 'NGNUAH', 'NGNUYU', 'NGNUZS', 'NGNVUV', 'NGNVND', 'NGNYER', 'NGNZMW']\n"
     ]
    }
   ],
   "source": [
    "def getAllExchangeVariableForCurrency(symbol):\n",
    "    try:\n",
    "        rdf = pd.read_csv(forex_matrix_file)\n",
    "        if symbol in rdf:\n",
    "            rdf = pd.read_csv(forex_matrix_file, usecols = [symbol])\n",
    "            return rdf.values.flatten().tolist()\n",
    "    except:\n",
    "        print(\"Error get result for\" + symbol)\n",
    "\n",
    "print(getAllExchangeVariableForCurrency('USD'))\n",
    "print(getAllExchangeVariableForCurrency('GBP'))\n",
    "print(getAllExchangeVariableForCurrency('NGN'))"
   ]
  }
 ],
 "metadata": {
  "kernelspec": {
   "display_name": "Python 3 (ipykernel)",
   "language": "python",
   "name": "python3"
  },
  "language_info": {
   "codemirror_mode": {
    "name": "ipython",
    "version": 3
   },
   "file_extension": ".py",
   "mimetype": "text/x-python",
   "name": "python",
   "nbconvert_exporter": "python",
   "pygments_lexer": "ipython3",
   "version": "3.9.12"
  },
  "vscode": {
   "interpreter": {
    "hash": "84c889a60286ece09d27da6b3a08738cc10428f23f388a6d3913714d84ff8b9f"
   }
  }
 },
 "nbformat": 4,
 "nbformat_minor": 5
}
